{
 "cells": [
  {
   "cell_type": "code",
   "execution_count": 65,
   "metadata": {},
   "outputs": [],
   "source": [
    "from copy import deepcopy\n",
    "from numpy import array\n",
    "from numpy.linalg import norm\n",
    "from numpy import random\n",
    "import matplotlib.pyplot as plt\n",
    "from mpl_toolkits.mplot3d import Axes3D"
   ]
  },
  {
   "cell_type": "code",
   "execution_count": 66,
   "metadata": {},
   "outputs": [],
   "source": [
    "class Node:\n",
    "\n",
    "    def __init__(self, m, x, y, z):\n",
    "        self.m = m\n",
    "        self.m_pos = m * array([x, y, z])\n",
    "        self.momentum = array([0., 0., 0.])\n",
    "        self.child = None\n",
    "\n",
    "    def into_next_octant(self):\n",
    "        self.s = 0.5 * self.s  \n",
    "        return self._subdivide(1) + 2*self._subdivide(0)\n",
    "\n",
    "    def pos(self):\n",
    "        return self.m_pos / self.m\n",
    "\n",
    "    def reset_to_0th_octant(self):\n",
    "        self.s = 1.0\n",
    "        self.relpos = self.pos().copy()\n",
    "\n",
    "    def dist(self, other):\n",
    "        return norm(other.pos() - self.pos())\n",
    "\n",
    "    def force_on(self, other):\n",
    "        cutoff_dist = 0.002\n",
    "        d = self.dist(other)\n",
    "        if d < cutoff_dist:\n",
    "            return array([0., 0., 0.])\n",
    "        else:\n",
    "            return (self.pos() - other.pos()) * (self.m*other.m / d**3)\n",
    "\n",
    "    def _subdivide(self, i):\n",
    "        self.relpos[i] *= 2.0\n",
    "        if self.relpos[i] < 1.0:\n",
    "            octant = 0\n",
    "        else:\n",
    "            octant = 1\n",
    "            self.relpos[i] -= 1.0\n",
    "        return octant"
   ]
  },
  {
   "cell_type": "code",
   "execution_count": 67,
   "metadata": {},
   "outputs": [],
   "source": [
    "def add(body, node):\n",
    "    new_node = body if node is None else None\n",
    "    smallest_octant = 1.e-4\n",
    "    if node is not None and node.s > smallest_octant:\n",
    "        if node.child is None:\n",
    "            new_node = deepcopy(node)\n",
    "            new_node.child = [None for i in range(4)]\n",
    "            octant = node.into_next_octant()\n",
    "            new_node.child[octant] = node\n",
    "\n",
    "        else:\n",
    "            new_node = node\n",
    "\n",
    "        new_node.m += body.m\n",
    "        new_node.m_pos += body.m_pos\n",
    "       \n",
    "        octant = body.into_next_octant()\n",
    "        new_node.child[octant] = add(body, new_node.child[octant])\n",
    "    return new_node"
   ]
  },
  {
   "cell_type": "code",
   "execution_count": 68,
   "metadata": {},
   "outputs": [],
   "source": [
    "def force_on(body, node, theta):\n",
    "\n",
    "    if node.child is None:\n",
    "        return node.force_on(body)\n",
    "\n",
    "    if node.s < node.dist(body) * theta:\n",
    "        return node.force_on(body)\n",
    "\n",
    "    return sum(force_on(body, c, theta) for c in node.child if c is not None)"
   ]
  },
  {
   "cell_type": "code",
   "execution_count": 69,
   "metadata": {},
   "outputs": [],
   "source": [
    "def verlet(bodies, root, theta, G, dt):\n",
    "    for body in bodies:\n",
    "        force = G * force_on(body, root, theta)\n",
    "        body.momentum += dt * force\n",
    "        body.m_pos += dt * body.momentum "
   ]
  },
  {
   "cell_type": "code",
   "execution_count": 70,
   "metadata": {},
   "outputs": [],
   "source": [
    "def plot_bodies(bodies, i):\n",
    "    ax = plt.gcf().add_subplot(111, projection='3d')\n",
    "    ax.scatter([b.pos()[0] for b in bodies], \\\n",
    "    [b.pos()[1] for b in bodies], [b.pos()[2] for b in bodies])\n",
    "    ax.set_xlim([0., 1.0])\n",
    "    ax.set_ylim([0., 1.0])\n",
    "    ax.set_zlim([0., 1.0])    \n",
    "    plt.gcf().savefig('bodies3D_{0:06}.png'.format(i))"
   ]
  },
  {
   "cell_type": "code",
   "execution_count": 71,
   "metadata": {},
   "outputs": [],
   "source": [
    "theta = 0.5\n",
    "mass = 1.0\n",
    "ini_radius = 0.1\n",
    "inivel = 0.1\n",
    "G = 4.e-6\n",
    "dt = 1.e-3\n",
    "numbodies = 1000\n",
    "max_iter = 500\n",
    "\n",
    "img_iter = 20"
   ]
  },
  {
   "cell_type": "code",
   "execution_count": 72,
   "metadata": {},
   "outputs": [],
   "source": [
    "random.seed(1)\n",
    "posx = random.random(numbodies) *2.*ini_radius + 0.5-ini_radius\n",
    "posy = random.random(numbodies) *2.*ini_radius + 0.5-ini_radius\n",
    "posz = random.random(numbodies) *2.*ini_radius + 0.5-ini_radius\n",
    "\n",
    "bodies = [ Node(mass, px, py, pz) for (px,py,pz) in zip(posx, posy, posz) \\\n",
    "               if (px-0.5)**2 + (py-0.5)**2 + (pz-0.5)**2 < ini_radius**2 ]"
   ]
  },
  {
   "cell_type": "code",
   "execution_count": 73,
   "metadata": {},
   "outputs": [],
   "source": [
    "for body in bodies: \n",
    "    r = body.pos() - array([0.5, 0.5, body.pos()[2] ])\n",
    "    body.momentum = array([-r[1], r[0], 0.]) * \\\n",
    "    mass*inivel*norm(r)/ini_radius\n"
   ]
  },
  {
   "cell_type": "code",
   "execution_count": 74,
   "metadata": {},
   "outputs": [
    {
     "name": "stdout",
     "output_type": "stream",
     "text": [
      "Writing images at iteration 0\n",
      "0.5153954282820885\n",
      "Writing images at iteration 20\n",
      "0.515362989742658\n",
      "Writing images at iteration 40\n",
      "0.5152727331778272\n",
      "Writing images at iteration 60\n",
      "0.5151237200747951\n",
      "Writing images at iteration 80\n",
      "0.5149182120360714\n",
      "Writing images at iteration 100\n",
      "0.5146562502765434\n",
      "Writing images at iteration 120\n",
      "0.5143378522830975\n",
      "Writing images at iteration 140\n",
      "0.5139610999900276\n",
      "Writing images at iteration 160\n",
      "0.5135276602014025\n",
      "Writing images at iteration 180\n",
      "0.5130353853331016\n",
      "Writing images at iteration 200\n",
      "0.5124781557037325\n",
      "Writing images at iteration 220\n",
      "0.5118570047015122\n",
      "Writing images at iteration 240\n",
      "0.5111727429486874\n",
      "Writing images at iteration 260\n",
      "0.5104268614638822\n",
      "Writing images at iteration 280\n",
      "0.5096197453589457\n",
      "Writing images at iteration 300\n",
      "0.5087723025026422\n",
      "Writing images at iteration 320\n",
      "0.5078940323257167\n",
      "Writing images at iteration 340\n",
      "0.506984406731014\n",
      "Writing images at iteration 360\n",
      "0.506033304835817\n",
      "Writing images at iteration 380\n",
      "0.5050276916814423\n",
      "Writing images at iteration 400\n",
      "0.5039971335180392\n",
      "Writing images at iteration 420\n",
      "0.5029283094854805\n",
      "Writing images at iteration 440\n",
      "0.5018179496663293\n",
      "Writing images at iteration 460\n",
      "0.5006909841823827\n",
      "Writing images at iteration 480\n",
      "0.4995999093272561\n"
     ]
    },
    {
     "data": {
      "image/png": "[encoded data removed]",
      "text/plain": [
       "<Figure size 432x288 with 25 Axes>"
      ]
     },
     "metadata": {
      "needs_background": "light"
     },
     "output_type": "display_data"
    }
   ],
   "source": [
    "for i in range(max_iter):\n",
    "    \n",
    "    root = None\n",
    "    for body in bodies:\n",
    "        body.reset_to_0th_octant()\n",
    "        root = add(body, root)\n",
    "    \n",
    "    verlet(bodies, root, theta, G, dt)\n",
    "           \n",
    "    if i%img_iter==0:\n",
    "        print(\"Writing images at iteration {0}\".format(i))\n",
    "        plot_bodies(bodies, i//img_iter)\n",
    "        firstbody = bodies[0]\n",
    "        print(firstbody.m_pos[2])"
   ]
  },
  {
   "cell_type": "code",
   "execution_count": null,
   "metadata": {},
   "outputs": [],
   "source": []
  }
 ],
 "metadata": {
  "kernelspec": {
   "display_name": "Python 3",
   "language": "python",
   "name": "python3"
  },
  "language_info": {
   "codemirror_mode": {
    "name": "ipython",
    "version": 3
   },
   "file_extension": ".py",
   "mimetype": "text/x-python",
   "name": "python",
   "nbconvert_exporter": "python",
   "pygments_lexer": "ipython3",
   "version": "3.6.10"
  }
 },
 "nbformat": 4,
 "nbformat_minor": 4
}
